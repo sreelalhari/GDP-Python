{
 "cells": [
  {
   "cell_type": "markdown",
   "metadata": {},
   "source": [
    "#### Sreelal H"
   ]
  },
  {
   "cell_type": "markdown",
   "metadata": {},
   "source": [
    "### Assignment 2 - Evaluate the dataset containing the GDPs of different countries to:"
   ]
  },
  {
   "cell_type": "code",
   "execution_count": 1,
   "metadata": {},
   "outputs": [],
   "source": [
    "lst=[]\n",
    "with open(\"Countries with GDP.txt\",\"r\") as file:\n",
    "    for eachline in file.readlines():\n",
    "        lst.append(eachline)\n",
    "lst.pop(0)\n",
    "lst.pop(0)\n",
    "lst.pop(1)\n",
    "lst.pop(1)\n",
    "lst.pop(1)\n",
    "lst.pop(1)\n",
    "\n",
    "Countries=[]\n",
    "GDP=[]\n",
    "\n",
    "Countries=lst[0].split(\",\")\n",
    "GDP=lst[1].split(\",\")\n",
    "\n",
    "k=len(Countries)\n",
    "l=len(GDP)\n",
    "\n",
    "for i in range(k):\n",
    "    Countries[i]=Countries[i].replace(\"'\",\"\")\n",
    "Countries[-1]=Countries[-1].replace(\"\\n\",\"\")\n",
    "\n",
    "GDP_float=[]\n",
    "for j in GDP:\n",
    "    GDP_float.append(float(j))\n",
    "\n"
   ]
  },
  {
   "cell_type": "code",
   "execution_count": 2,
   "metadata": {},
   "outputs": [
    {
     "name": "stdout",
     "output_type": "stream",
     "text": [
      "Country with highest GDP is Norway with GDP = 40034.85063\n"
     ]
    }
   ],
   "source": [
    "#High gdp\n",
    "Max=max(GDP_float)\n",
    "max_index=GDP_float.index(Max)\n",
    "print(\"Country with highest GDP is\",Countries[max_index],\"with GDP =\",Max)"
   ]
  },
  {
   "cell_type": "code",
   "execution_count": 3,
   "metadata": {},
   "outputs": [
    {
     "name": "stdout",
     "output_type": "stream",
     "text": [
      "Country with lowest GDP is Ethiopia with GDP = 229.6769525\n"
     ]
    }
   ],
   "source": [
    "#Low gdp\n",
    "Min=min(GDP_float)\n",
    "min_index=GDP_float.index(Min)\n",
    "print(\"Country with lowest GDP is\",Countries[min_index],\"with GDP =\",Min)"
   ]
  },
  {
   "cell_type": "code",
   "execution_count": 4,
   "metadata": {},
   "outputs": [
    {
     "name": "stdout",
     "output_type": "stream",
     "text": [
      "Algeria : 2255.225482\n",
      "Angola : 629.9553062\n",
      "Argentina : 11601.63022\n",
      "Australia : 25306.82494\n",
      "Austria : 27266.40335\n",
      "Bahamas : 19466.99052\n",
      "Bangladesh : 588.3691778\n",
      "Belarus : 2890.345675\n",
      "Belgium : 24733.62696\n",
      "Bhutan : 1445.760002\n",
      "Brazil : 4803.398244\n",
      "Bulgaria : 2618.876037\n",
      "Cambodia : 590.4521124\n",
      "Cameroon : 665.7982328\n",
      "Chile : 7122.938458\n",
      "China : 2639.54156\n",
      "Colombia : 3362.4656\n",
      "Cyprus : 15378.16704\n",
      "Denmark : 30860.12808\n",
      "El Salvador : 2579.115607\n",
      "Estonia : 6525.541272\n",
      "Ethiopia : 229.6769525\n",
      "Fiji : 2242.689259\n",
      "Finland : 27570.4852\n",
      "France : 23016.84778\n",
      "Georgia : 1334.646773\n",
      "Ghana : 402.6953275\n",
      "Grenada : 6047.200797\n",
      "Guinea : 394.1156638\n",
      "Haiti : 385.5793827\n",
      "Honduras : 1414.072488\n",
      "Hungary : 5745.981529\n",
      "India : 837.7464011\n",
      "Indonesia : 1206.991065\n",
      "Ireland : 27715.52837\n",
      "Italy : 18937.24998\n",
      "Japan : 39578.07441\n",
      "Kenya : 478.2194906\n",
      " South Korea : 16684.21278\n",
      "Liberia : 279.2204061\n",
      "Malaysia : 5345.213415\n",
      "Mexico : 6288.25324\n",
      " Morocco : 1908.304416\n",
      "Nepal : 274.8728621\n",
      "New Zealand : 14646.42094\n",
      "Norway : 40034.85063\n",
      "Pakistan : 672.1547506\n",
      " Peru : 3359.517402\n",
      "Qatar : 36152.66676\n",
      "Russia : 3054.727742\n",
      "Singapore : 33529.83052\n",
      "South Africa : 3825.093781\n",
      "Spain : 15428.32098\n",
      "Sweden : 33630.24604\n",
      "Switzerland : 39170.41371\n",
      "Thailand : 2699.123242\n",
      " United Arab Emirates : 21058.43643\n",
      "United Kingdom : 28272.40661\n",
      "United States : 37691.02733\n",
      "Uruguay : 9581.05659\n",
      "Venezuela : 5671.912202\n",
      "Vietnam : 757.4009286\n",
      "Zimbabwe : 347.7456605\n"
     ]
    }
   ],
   "source": [
    "#Entire details\n",
    "for every in range(63):\n",
    "    print(Countries[every],\":\",GDP_float[every])"
   ]
  },
  {
   "cell_type": "code",
   "execution_count": 5,
   "metadata": {},
   "outputs": [
    {
     "data": {
      "text/html": [
       "<div>\n",
       "<style scoped>\n",
       "    .dataframe tbody tr th:only-of-type {\n",
       "        vertical-align: middle;\n",
       "    }\n",
       "\n",
       "    .dataframe tbody tr th {\n",
       "        vertical-align: top;\n",
       "    }\n",
       "\n",
       "    .dataframe thead th {\n",
       "        text-align: right;\n",
       "    }\n",
       "</style>\n",
       "<table border=\"1\" class=\"dataframe\">\n",
       "  <thead>\n",
       "    <tr style=\"text-align: right;\">\n",
       "      <th></th>\n",
       "      <th>0</th>\n",
       "    </tr>\n",
       "  </thead>\n",
       "  <tbody>\n",
       "    <tr>\n",
       "      <th>count</th>\n",
       "      <td>63.000000</td>\n",
       "    </tr>\n",
       "    <tr>\n",
       "      <th>mean</th>\n",
       "      <td>11289.409272</td>\n",
       "    </tr>\n",
       "    <tr>\n",
       "      <th>std</th>\n",
       "      <td>12846.190627</td>\n",
       "    </tr>\n",
       "    <tr>\n",
       "      <th>min</th>\n",
       "      <td>229.676952</td>\n",
       "    </tr>\n",
       "    <tr>\n",
       "      <th>25%</th>\n",
       "      <td>1270.818919</td>\n",
       "    </tr>\n",
       "    <tr>\n",
       "      <th>50%</th>\n",
       "      <td>4803.398244</td>\n",
       "    </tr>\n",
       "    <tr>\n",
       "      <th>75%</th>\n",
       "      <td>20262.713475</td>\n",
       "    </tr>\n",
       "    <tr>\n",
       "      <th>max</th>\n",
       "      <td>40034.850630</td>\n",
       "    </tr>\n",
       "  </tbody>\n",
       "</table>\n",
       "</div>"
      ],
      "text/plain": [
       "                  0\n",
       "count     63.000000\n",
       "mean   11289.409272\n",
       "std    12846.190627\n",
       "min      229.676952\n",
       "25%     1270.818919\n",
       "50%     4803.398244\n",
       "75%    20262.713475\n",
       "max    40034.850630"
      ]
     },
     "execution_count": 5,
     "metadata": {},
     "output_type": "execute_result"
    }
   ],
   "source": [
    "#High gdp,lowgdp, meangdp, standardized gdp,sum of all gdp\n",
    "import pandas as pd\n",
    "GDP_df=pd.DataFrame(GDP_float)\n",
    "GDP_df.describe()\n"
   ]
  },
  {
   "cell_type": "code",
   "execution_count": 6,
   "metadata": {},
   "outputs": [
    {
     "name": "stdout",
     "output_type": "stream",
     "text": [
      "Sum of all Gdp is = 711232.7841133001\n"
     ]
    }
   ],
   "source": [
    "print(\"Sum of all Gdp is =\",sum(GDP_float))"
   ]
  },
  {
   "cell_type": "code",
   "execution_count": null,
   "metadata": {},
   "outputs": [],
   "source": []
  }
 ],
 "metadata": {
  "kernelspec": {
   "display_name": "Python 3 (ipykernel)",
   "language": "python",
   "name": "python3"
  },
  "language_info": {
   "codemirror_mode": {
    "name": "ipython",
    "version": 3
   },
   "file_extension": ".py",
   "mimetype": "text/x-python",
   "name": "python",
   "nbconvert_exporter": "python",
   "pygments_lexer": "ipython3",
   "version": "3.9.7"
  }
 },
 "nbformat": 4,
 "nbformat_minor": 4
}
